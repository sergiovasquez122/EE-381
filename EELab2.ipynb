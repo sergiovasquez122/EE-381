{
 "cells": [
  {
   "cell_type": "code",
   "execution_count": 1,
   "metadata": {
    "collapsed": true
   },
   "outputs": [],
   "source": [
    "import numpy as np\n",
    "import matplotlib.pyplot as plt"
   ]
  },
  {
   "cell_type": "markdown",
   "metadata": {},
   "source": [
    "## Problem 1"
   ]
  },
  {
   "cell_type": "code",
   "execution_count": 2,
   "metadata": {
    "collapsed": true
   },
   "outputs": [],
   "source": [
    "import numpy as np\n",
    "import matplotlib.pyplot as plt\n",
    "\n",
    "def nSidedDie(p):\n",
    "    choices = [i for i in range(len(p))]\n",
    "    choice = np.random.choice(choices, p = p)\n",
    "    return choice"
   ]
  },
  {
   "cell_type": "code",
   "execution_count": 3,
   "metadata": {
    "collapsed": true
   },
   "outputs": [],
   "source": [
    "p0 = 0.6\n",
    "e0 = 0.05\n",
    "e1 = 0.03"
   ]
  },
  {
   "cell_type": "code",
   "execution_count": 4,
   "metadata": {
    "collapsed": true
   },
   "outputs": [],
   "source": [
    "def single_trial(p0, e0, e1):\n",
    "    S = nSidedDie([p0, 1 - p0])\n",
    "    R = -1\n",
    "    if S == 1:\n",
    "        R = nSidedDie([e1, 1 - e1])\n",
    "    elif S == 0:\n",
    "        R = nSidedDie([1 - e0, e0])\n",
    "    return R == S"
   ]
  },
  {
   "cell_type": "code",
   "execution_count": 5,
   "metadata": {},
   "outputs": [
    {
     "name": "stdout",
     "output_type": "stream",
     "text": [
      "Chance of failure is 0.04168\n"
     ]
    }
   ],
   "source": [
    "N = 100000\n",
    "successes = 0\n",
    "for i in range(N):\n",
    "    successes += single_trial(p0, e0, e1)\n",
    "    \n",
    "chance_of_success = (successes) / N\n",
    "chance_of_failure = 1 - chance_of_success\n",
    "\n",
    "print(\"Chance of failure is\", chance_of_failure)"
   ]
  },
  {
   "cell_type": "markdown",
   "metadata": {},
   "source": [
    "## Problem 2"
   ]
  },
  {
   "cell_type": "code",
   "execution_count": 6,
   "metadata": {
    "collapsed": true
   },
   "outputs": [],
   "source": [
    "import numpy as np\n",
    "import matplotlib.pyplot as plt\n",
    "def single_trial(p, e0, e1):\n",
    "    S = 1\n",
    "    R = nSidedDie([e1, 1 - e1])\n",
    "    return S == R"
   ]
  },
  {
   "cell_type": "code",
   "execution_count": 7,
   "metadata": {},
   "outputs": [
    {
     "name": "stdout",
     "output_type": "stream",
     "text": [
      "Conditional probability P(R=1|S=1) 0.97047\n"
     ]
    }
   ],
   "source": [
    "N = 100000\n",
    "successes = 0\n",
    "for _ in range(100000):\n",
    "    successes += single_trial(p0, e0, e1)\n",
    "print('Conditional probability P(R=1|S=1)', successes / N)"
   ]
  },
  {
   "cell_type": "markdown",
   "metadata": {},
   "source": [
    "## Problem 3"
   ]
  },
  {
   "cell_type": "code",
   "execution_count": 8,
   "metadata": {
    "collapsed": true
   },
   "outputs": [],
   "source": [
    "import numpy as np\n",
    "import matplotlib.pyplot as plt\n",
    "def single_trial(p0, e0, e1):\n",
    "    Probability_of_R1 = p0 * e0 + (1 - p0) * (1 - e1)\n",
    "    # Normalizing distribution since we know R1 occurred\n",
    "    S = nSidedDie([(p0 * e0) / Probability_of_R1, ((1 - p0) * (1 - e1)) / Probability_of_R1])\n",
    "    return S == 1"
   ]
  },
  {
   "cell_type": "code",
   "execution_count": 9,
   "metadata": {},
   "outputs": [
    {
     "name": "stdout",
     "output_type": "stream",
     "text": [
      "Conditional probability P(S=1|R=1) 0.92763\n"
     ]
    }
   ],
   "source": [
    "N = 100000\n",
    "successes = 0\n",
    "for _ in range(100000):\n",
    "    successes += single_trial(p0, e0, e1)\n",
    "print('Conditional probability P(S=1|R=1)', successes / N)"
   ]
  },
  {
   "cell_type": "markdown",
   "metadata": {},
   "source": [
    "## Problem 4"
   ]
  },
  {
   "cell_type": "code",
   "execution_count": 10,
   "metadata": {
    "collapsed": true
   },
   "outputs": [],
   "source": [
    "import numpy as np\n",
    "import matplotlib.pyplot as plt\n",
    "def single_trial(p0, e0, e1):\n",
    "    S = nSidedDie([p0, 1 - p0])\n",
    "    if S == 1:\n",
    "        R = np.random.choice([0, 1], size = 3, p = [e1, 1 - e1])\n",
    "    else:\n",
    "        R = np.random.choice([0, 1], size = 3, p = [1 - e0, e0])\n",
    "    \n",
    "    ones = np.count_nonzero(R)\n",
    "    zeros = np.size(R) - ones\n",
    "    \n",
    "    bit_transmitted = 1 if ones > zeros else 0\n",
    "    \n",
    "    return S == bit_transmitted\n",
    "            "
   ]
  },
  {
   "cell_type": "code",
   "execution_count": 11,
   "metadata": {},
   "outputs": [
    {
     "name": "stdout",
     "output_type": "stream",
     "text": [
      "The chance of failure =  0.00569\n"
     ]
    }
   ],
   "source": [
    "N = 100000\n",
    "successes = 0\n",
    "for i in range(N):\n",
    "    successes += single_trial(p0, e0, e1)\n",
    "chance_of_success = successes / N\n",
    "chance_of_failure = 1 - chance_of_success\n",
    "print('The chance of failure = ', chance_of_failure)\n",
    "    "
   ]
  }
 ],
 "metadata": {
  "kernelspec": {
   "display_name": "Python 3",
   "language": "python",
   "name": "python3"
  },
  "language_info": {
   "codemirror_mode": {
    "name": "ipython",
    "version": 3
   },
   "file_extension": ".py",
   "mimetype": "text/x-python",
   "name": "python",
   "nbconvert_exporter": "python",
   "pygments_lexer": "ipython3",
   "version": "3.6.9"
  }
 },
 "nbformat": 4,
 "nbformat_minor": 2
}
