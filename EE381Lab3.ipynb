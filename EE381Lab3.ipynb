{
 "cells": [
  {
   "cell_type": "code",
   "execution_count": 16,
   "metadata": {
    "collapsed": true
   },
   "outputs": [],
   "source": [
    "import numpy as np\n",
    "import matplotlib.pyplot as plt\n",
    "def nSidedDie(p):\n",
    "    choices = [i + 1 for i in range(len(p))]\n",
    "    choice = np.random.choice(choices, p = p)\n",
    "    return choice"
   ]
  },
  {
   "cell_type": "code",
   "execution_count": 17,
   "metadata": {
    "collapsed": true
   },
   "outputs": [],
   "source": [
    "p=[0.2,  0.1,  0.15, 0.3, 0.2, 0.05]"
   ]
  },
  {
   "cell_type": "code",
   "execution_count": 18,
   "metadata": {
    "collapsed": true
   },
   "outputs": [],
   "source": [
    "def single_roll(p):\n",
    "    die1 = nSidedDie(p)\n",
    "    die2 = nSidedDie(p)\n",
    "    die3 = nSidedDie(p)\n",
    "    return die1 == 1 and die2 == 2 and die3 == 3"
   ]
  },
  {
   "cell_type": "code",
   "execution_count": 19,
   "metadata": {
    "collapsed": true
   },
   "outputs": [],
   "source": [
    "def single_experiment(n_iterations, p):\n",
    "    X = 0\n",
    "    for _ in range(n_iterations):\n",
    "        X += single_roll(p)\n",
    "    return X"
   ]
  },
  {
   "cell_type": "code",
   "execution_count": 21,
   "metadata": {
    "collapsed": true
   },
   "outputs": [],
   "source": [
    "def experiments(n_experiments, n_iterations, p):\n",
    "    experiment_results = []\n",
    "    for _ in range(n_experiments):\n",
    "        experiment_results.append(single_experiment(n_iterations, p))\n",
    "    return experiment_results"
   ]
  },
  {
   "cell_type": "code",
   "execution_count": 22,
   "metadata": {
    "collapsed": true
   },
   "outputs": [],
   "source": [
    "def plot(n_experiments, n_iterations, p):\n",
    "    experiment_results = experiments(n_experiments, n_iterations, p)\n",
    "    b = range(0, max(experiment_results))\n",
    "    sb = len(b)\n",
    "    h1, bin_edges = np.histogram(experiment_results, b)\n",
    "    b1 = bin_edges[0: sb - 1]\n",
    "    plt.close()\n",
    "    \n",
    "    p1 = h1 / n_experiments\n",
    "    plt.stem(b1, p1)\n",
    "    plt.title(\"Bernoulli Trials: PMF - Experimental Results\")\n",
    "    plt.xlabel(\"Number of successes in n=1000 trials\")\n",
    "    plt.ylabel(\"Probability\")\n",
    "    plt.show()"
   ]
  },
  {
   "cell_type": "code",
   "execution_count": 23,
   "metadata": {},
   "outputs": [
    {
     "data": {
      "image/png": "[encoded data removed]",
      "text/plain": [
       "<matplotlib.figure.Figure at 0x7f6658112898>"
      ]
     },
     "metadata": {},
     "output_type": "display_data"
    }
   ],
   "source": [
    "n_experiments = 10000\n",
    "n_iterations = 1000\n",
    "plot(n_experiments, n_iterations, p)"
   ]
  },
  {
   "cell_type": "markdown",
   "metadata": {},
   "source": [
    "# Problem 2"
   ]
  },
  {
   "cell_type": "code",
   "execution_count": 110,
   "metadata": {
    "collapsed": true
   },
   "outputs": [],
   "source": [
    "import numpy as np\n",
    "import matplotlib.pyplot as plt\n",
    "\n",
    "def binomial_trials(n, k, p):\n",
    "    n_factorial = np.math.factorial(n)\n",
    "    k_factorial = np.math.factorial(k)\n",
    "    n_minus_k_factorial = np.math.factorial(n-k)\n",
    "    n_choose_k = (n_factorial / (k_factorial * n_minus_k_factorial))\n",
    "    p_super_k = p ** k \n",
    "    p_complement_super_k = (1 - p)**(n - k)\n",
    "    return n_choose_k * p_super_k * p_complement_super_k\n",
    "    \n",
    "    "
   ]
  },
  {
   "cell_type": "code",
   "execution_count": 111,
   "metadata": {
    "collapsed": true
   },
   "outputs": [],
   "source": [
    "def experiments(n_trials,p):\n",
    "    experiment_results = []\n",
    "    # since for k greater than 9 the probability is extremely small \n",
    "    # I only calculate up to 9\n",
    "    for k in range(10):\n",
    "        experiment_results.append(binomial_trials(n_trials, k, p))\n",
    "    return experiment_results"
   ]
  },
  {
   "cell_type": "code",
   "execution_count": 112,
   "metadata": {},
   "outputs": [],
   "source": [
    "def plot(n_iterations, p):\n",
    "    experiment_results = experiments(n_iterations, p)\n",
    "    b = range(0, 10)\n",
    "    sb = len(b)\n",
    "    h1, bin_edges = np.histogram(experiment_results, b)\n",
    "    b1 = bin_edges[0: sb]\n",
    "    plt.close()\n",
    "    \n",
    "    plt.stem(b1, experiment_results)\n",
    "    plt.title(\"Bernoulli Trials: PMF - Binomial Formula\")\n",
    "    plt.xlabel(\"Number of successes in n=1000 trials\")\n",
    "    plt.ylabel(\"Probability\")\n",
    "    plt.show()"
   ]
  },
  {
   "cell_type": "code",
   "execution_count": 113,
   "metadata": {},
   "outputs": [
    {
     "data": {
      "image/png": "[encoded data removed]",
      "text/plain": [
       "<matplotlib.figure.Figure at 0x7f664caf0e80>"
      ]
     },
     "metadata": {},
     "output_type": "display_data"
    }
   ],
   "source": [
    "p=[0.2,  0.1,  0.15, 0.3, 0.2, 0.05]\n",
    "probability_p = p[0] * p[1] * p[2] # since dice rolls are independent of each other\n",
    "n_iterations = 1000\n",
    "plot(n_iterations, probability_p)"
   ]
  },
  {
   "cell_type": "markdown",
   "metadata": {},
   "source": [
    "# Problem 3"
   ]
  },
  {
   "cell_type": "code",
   "execution_count": 114,
   "metadata": {},
   "outputs": [],
   "source": [
    "import numpy as np\n",
    "import matplotlib.pyplot as plt\n",
    "\n",
    "def poisson_trials(lambda_value, k):\n",
    "    lamba_super_k = lambda_value ** k\n",
    "    e_super_neg_k = np.math.exp( -lambda_value )\n",
    "    k_factorial = np.math.factorial(k)\n",
    "    return (lamba_super_k * e_super_neg_k) / (k_factorial)\n",
    "    \n",
    "    "
   ]
  },
  {
   "cell_type": "code",
   "execution_count": 115,
   "metadata": {
    "collapsed": true
   },
   "outputs": [],
   "source": [
    "def experiments(n_trials,p):\n",
    "    experiment_results = []\n",
    "    lambda_value = n_trials * p\n",
    "    for k in range(10):\n",
    "        experiment_results.append(poisson_trials(lambda_value, k))\n",
    "    return experiment_results"
   ]
  },
  {
   "cell_type": "code",
   "execution_count": 116,
   "metadata": {
    "collapsed": true
   },
   "outputs": [],
   "source": [
    "def plot(n_iterations, p):\n",
    "    experiment_results = experiments(n_iterations, p)\n",
    "    b = range(0, 10)\n",
    "    sb = len(b)\n",
    "    h1, bin_edges = np.histogram(experiment_results, b)\n",
    "    b1 = bin_edges[0: sb]\n",
    "    plt.close()\n",
    "    \n",
    "  \n",
    "    plt.stem(b1, experiment_results)\n",
    "    plt.title(\"Bernoulli Trials: PMF - Poisson Approximation\")\n",
    "    plt.xlabel(\"Number of successes in n=1000 trials\")\n",
    "    plt.ylabel(\"Probability\")\n",
    "    plt.show()"
   ]
  },
  {
   "cell_type": "code",
   "execution_count": 117,
   "metadata": {},
   "outputs": [
    {
     "data": {
      "image/png": "[encoded data removed]",
      "text/plain": [
       "<matplotlib.figure.Figure at 0x7f664cb22048>"
      ]
     },
     "metadata": {},
     "output_type": "display_data"
    }
   ],
   "source": [
    "probability_p = p[0] * p[1] * p[2] # since dice rolls are independent of each other\n",
    "n_iterations = 1000\n",
    "plot(n_iterations, probability_p)"
   ]
  },
  {
   "cell_type": "code",
   "execution_count": null,
   "metadata": {
    "collapsed": true
   },
   "outputs": [],
   "source": []
  },
  {
   "cell_type": "code",
   "execution_count": null,
   "metadata": {
    "collapsed": true
   },
   "outputs": [],
   "source": []
  }
 ],
 "metadata": {
  "kernelspec": {
   "display_name": "Python 3",
   "language": "python",
   "name": "python3"
  },
  "language_info": {
   "codemirror_mode": {
    "name": "ipython",
    "version": 3
   },
   "file_extension": ".py",
   "mimetype": "text/x-python",
   "name": "python",
   "nbconvert_exporter": "python",
   "pygments_lexer": "ipython3",
   "version": "3.6.9"
  }
 },
 "nbformat": 4,
 "nbformat_minor": 2
}
