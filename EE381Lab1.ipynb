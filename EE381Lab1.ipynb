{
 "cells": [
  {
   "cell_type": "code",
   "execution_count": null,
   "metadata": {
    "collapsed": true
   },
   "outputs": [],
   "source": [
    "import numpy as np\n",
    "import matplotlib.pyplot as plt"
   ]
  },
  {
   "cell_type": "markdown",
   "metadata": {},
   "source": [
    "## Problem 1: function for a n-sided die\n",
    "Write a function that simulates a single roll of a n-sided die. The function of the inputs are \n",
    "the probabilities for each side, given as a vector p = [p1, p2, ..., pn]\n",
    "\n",
    "the output is a face of the die after a single roll"
   ]
  },
  {
   "cell_type": "code",
   "execution_count": null,
   "metadata": {
    "collapsed": true
   },
   "outputs": [],
   "source": [
    "def nSidedDie(p):\n",
    "    choices = [(i + 1) for i in range(len(p))]\n",
    "    choice = np.random.choice(choices,p = p)\n",
    "    return choice"
   ]
  },
  {
   "cell_type": "code",
   "execution_count": null,
   "metadata": {
    "collapsed": true
   },
   "outputs": [],
   "source": [
    "p=[0.10,  0.15,  0.20,  0.05,  0.30, 0.10, 0.10]"
   ]
  },
  {
   "cell_type": "code",
   "execution_count": null,
   "metadata": {
    "collapsed": true
   },
   "outputs": [],
   "source": [
    "def rollNSideDie(p, N):\n",
    "    sample_space = [i + 1 for i in range(len(p))]\n",
    "    samples = np.random.choice(sample_space,size = N, p = p)\n",
    "    b = range(8)\n",
    "    h1, bin_edges = np.histogram(samples, bins=range(1, 9))\n",
    "    plt.figure(3)\n",
    "    b1 = bin_edges[0:7]\n",
    "    plt.stem(b1, h1)\n",
    "    plt.xlabel('The die value')\n",
    "    plt.ylabel('die value occurrences')\n",
    "\n",
    "    fig2 = plt.figure(num = 4)\n",
    "    p1 = h1 / N\n",
    "    plt.stem(b1 , p1)\n",
    "    plt.title('Stem plt - die: Probability mass function')\n",
    "    plt.xlabel('die value')\n",
    "    plt.ylabel('Probability')\n",
    "    plt.show()\n",
    "    "
   ]
  },
  {
   "cell_type": "code",
   "execution_count": null,
   "metadata": {
    "collapsed": true
   },
   "outputs": [],
   "source": [
    "rollNSideDie(p, 10000)"
   ]
  },
  {
   "cell_type": "markdown",
   "metadata": {},
   "source": [
    "## Problem 2: Number of rolls needed to get a \"7\" with two dice\n",
    "\n",
    "You roll a pair of fair dice and calculate the sum o fthe faces. You are interested in the number of rolls it takes until you get a sum of \"7\". The first time you get a \"7\" the experiment is considered a \"success\". You record the number of rolls and you stop the experiment\n",
    "\n",
    "You repeat the experiment N = 100,000 times. Each time you keep track of the number of rolls it takes to have \"success\"."
   ]
  },
  {
   "cell_type": "code",
   "execution_count": null,
   "metadata": {
    "collapsed": true
   },
   "outputs": [],
   "source": [
    "def single_trial():\n",
    "    counter = 0\n",
    "    die1 = -1\n",
    "    die2 = -1\n",
    "    while die1 + die2 != 7:\n",
    "        counter += 1\n",
    "        die1 = np.random.randint(1, 7)\n",
    "        die2 = np.random.randint(1, 7)\n",
    "        \n",
    "    return counter\n",
    "\n",
    "def n_die_trials(N):\n",
    "    count = [None] * N\n",
    "    for iteration in range(N):\n",
    "        result = single_trial()\n",
    "        count[iteration] = result\n",
    "        \n",
    "    b = range(1, 25)\n",
    "    h1, bin_edges = np.histogram(a = count, bins = b)\n",
    "    b1 = bin_edges[1:25]\n",
    "    fig2 = plt.figure(5)\n",
    "    p1 = h1/N\n",
    "    plt.stem(b1,p1)\n",
    "    plt.title('Stem plot - Getting 7 from pair of dice: Probability mass function')\n",
    "    plt.xlabel('Number of rolls to get 7')\n",
    "    plt.ylabel('Probability')\n",
    "    plt.show()"
   ]
  },
  {
   "cell_type": "code",
   "execution_count": null,
   "metadata": {
    "collapsed": true
   },
   "outputs": [],
   "source": [
    "N = 100000\n",
    "n_die_trials(100000)"
   ]
  },
  {
   "cell_type": "markdown",
   "metadata": {},
   "source": [
    "Note that the problem models a geometric distribution such that\n",
    "\n",
    "$$ \n",
    "            \\begin{equation}\n",
    "             \\nonumber P_X(k) = \\left\\{\n",
    "              \\begin{array}{l l}\n",
    "                 p(1-p)^{k}& \\quad \\text{for  } k=0,1,2,3,...\\\\\n",
    "                0  & \\quad \\text{ otherwise}\n",
    "              \\end{array} \\right.\n",
    "            \\end{equation} \n",
    "            $$\n",
    "            \n",
    "where p = 6 / 36"
   ]
  },
  {
   "cell_type": "markdown",
   "metadata": {},
   "source": [
    "## Problem 3: Getting 50 heads when tossing 100 coins\n",
    "\n",
    "Consider the following experiment:\n",
    "You toss 100 fair coins and record the number of \"heads\". This is considered a single experiment. If you get exactly 50 heads, the experiment is considered a \"success\"\n",
    "\n",
    "You repeat the experiment N = 100,000 times. After the N experiments are completed count the total successes, and calculate the probability of success"
   ]
  },
  {
   "cell_type": "code",
   "execution_count": null,
   "metadata": {
    "collapsed": true
   },
   "outputs": [],
   "source": [
    "def one_trial():\n",
    "    experiment_result = np.random.randint(0, 2, 100)\n",
    "    return sum(experiment_result) == 50"
   ]
  },
  {
   "cell_type": "code",
   "execution_count": null,
   "metadata": {
    "collapsed": true
   },
   "outputs": [],
   "source": [
    "def n_trials(n):\n",
    "    result = 0\n",
    "    for i in range(n):\n",
    "        result += one_trial()\n",
    "    return result"
   ]
  },
  {
   "cell_type": "code",
   "execution_count": null,
   "metadata": {
    "collapsed": true
   },
   "outputs": [],
   "source": [
    "N = 100000\n",
    "print(\"The probability of getting exactly 50 heads in 100 coin tosses:\",n_trials(N) / N)"
   ]
  },
  {
   "cell_type": "markdown",
   "metadata": {},
   "source": [
    "## Problem 4: The Password Hacking Problem\n",
    "\n",
    "Your computer system uses a 4-letter password for login. For our purposes the\n",
    "password is restricted to lower case letters of the alphabet only. It is easy to\n",
    "calculate that the total number of passwords which can be produced is n = 26 4 .\n",
    "o\n",
    "A hacker creates a list of\n",
    "random 4-letter words, as candidates for\n",
    "matching the password. Note that it is possible that some of the words may\n",
    "be duplicates. The number that you must use has been given to you.\n",
    "o\n",
    "You are given your own 4-letter password and you are going to check\n",
    "if the hacker’s list contains at least one word that matches your password.\n",
    "This process of checking is considered one experiment. If a word in the list\n",
    "matches your password, the experiment is considered a success. Repeat the\n",
    "experiment for N = 1000 times and find the probability that at least one of\n",
    "the words in the hacker's list will match your password.\n",
    "o\n",
    "The hacker creates a longer list of k* random 4-letter words. The\n",
    "numbers k and have been given to you. Repeat the previous experiment for\n",
    "N = 1000 times and find the probability that at least one of the words in\n",
    "the hacker's list will match your password.\n",
    "o\n",
    "Repeat the previous experiment for N = 1000 times to find the\n",
    "approximate number ( m ) of words that must be contained in the hacker's\n",
    "list so that the probability of at least one word matching the password is\n",
    "p = 0.5 . You should do this by trial and error: assume a value for ( m ) and\n",
    "calculate the corresponding probability as you did in the previous part. The\n",
    "answer will be value of ( m ) that makes this probability approximately\n",
    "equal to p = 0.5 ."
   ]
  },
  {
   "cell_type": "code",
   "execution_count": null,
   "metadata": {
    "collapsed": true
   },
   "outputs": [],
   "source": [
    "import random\n",
    "import string"
   ]
  },
  {
   "cell_type": "code",
   "execution_count": null,
   "metadata": {
    "collapsed": true
   },
   "outputs": [],
   "source": [
    "def random_string(string_length = 4):\n",
    "    letters = string.ascii_lowercase\n",
    "    return ''.join((random.choice(letters)) for i in range(string_length))"
   ]
  },
  {
   "cell_type": "code",
   "execution_count": null,
   "metadata": {
    "collapsed": true
   },
   "outputs": [],
   "source": [
    "def single_trial(m):\n",
    "    word_given = random_string(4)\n",
    "    hacker_words = [random_string(4) for _ in range(m)]\n",
    "    return word_given in hacker_words"
   ]
  },
  {
   "cell_type": "code",
   "execution_count": null,
   "metadata": {
    "collapsed": true
   },
   "outputs": [],
   "source": [
    "N = 1000\n",
    "single_trial(N)"
   ]
  },
  {
   "cell_type": "code",
   "execution_count": null,
   "metadata": {
    "collapsed": true
   },
   "outputs": [],
   "source": [
    "def n_trials(n, m):\n",
    "    sums = 0\n",
    "    for _ in range(n):\n",
    "        sums += single_trial(m)\n",
    "    return sums"
   ]
  },
  {
   "cell_type": "code",
   "execution_count": null,
   "metadata": {
    "collapsed": true
   },
   "outputs": [],
   "source": [
    "n = 1000\n",
    "m = 80000\n",
    "k = 7\n",
    "result = n_trials(n, m)\n",
    "print(result / n)"
   ]
  },
  {
   "cell_type": "code",
   "execution_count": null,
   "metadata": {
    "collapsed": true
   },
   "outputs": [],
   "source": [
    "result = n_trials(n, k * m)\n",
    "print(result / n)"
   ]
  },
  {
   "cell_type": "code",
   "execution_count": null,
   "metadata": {
    "collapsed": true
   },
   "outputs": [],
   "source": [
    "m = 80000 * 4\n",
    "result = n_trials(n, m)\n",
    "print(result / n)"
   ]
  },
  {
   "cell_type": "code",
   "execution_count": null,
   "metadata": {
    "collapsed": true
   },
   "outputs": [],
   "source": [
    "print(\"The value of m so that the probability p is approximately p is\", m)"
   ]
  },
  {
   "cell_type": "code",
   "execution_count": 1,
   "metadata": {},
   "outputs": [
    {
     "data": {
      "text/plain": [
       "1"
      ]
     },
     "execution_count": 1,
     "metadata": {},
     "output_type": "execute_result"
    }
   ],
   "source": []
  },
  {
   "cell_type": "code",
   "execution_count": null,
   "metadata": {
    "collapsed": true
   },
   "outputs": [],
   "source": []
  }
 ],
 "metadata": {
  "kernelspec": {
   "display_name": "Python 3",
   "language": "python",
   "name": "python3"
  },
  "language_info": {
   "codemirror_mode": {
    "name": "ipython",
    "version": 3
   },
   "file_extension": ".py",
   "mimetype": "text/x-python",
   "name": "python",
   "nbconvert_exporter": "python",
   "pygments_lexer": "ipython3",
   "version": "3.6.9"
  }
 },
 "nbformat": 4,
 "nbformat_minor": 2
}
